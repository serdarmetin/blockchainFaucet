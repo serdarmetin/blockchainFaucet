{
 "cells": [
  {
   "cell_type": "code",
   "execution_count": 14,
   "metadata": {
    "collapsed": false
   },
   "outputs": [],
   "source": [
    "#%matplotlib inline\n",
    "#import matplotlib.pyplot as plt\n",
    "import numpy as np\n",
    "from recordclass import recordclass\n",
    "from operator import attrgetter\n",
    "from heapq import heapify, heappush, heappop\n",
    "\n",
    "capacity = 10000\n",
    "share = 0\n",
    "selector = 0\n",
    "i = 0\n",
    "\n",
    "node = recordclass(\"node\", \"value id\")\n",
    "\n",
    "\n",
    "#demand = [[node(int(data[0]),0), node(99,1), node(104,2), node(104,3), node(98,4)],[]]\n",
    "\n",
    "\n",
    "\n",
    "demand = [[],[]]                           #create the demand vector\n",
    "file = open(\"data.txt\", 'r')\n",
    "data = file.readlines()\n",
    "file.close()\n",
    "\n",
    "for line in data:\n",
    "    demand[0].append(node(int(line),i))\n",
    "    i += 1\n",
    "heapify(demand[0])                         #build a demand heap\n",
    "\n",
    "supply = np.zeros(len(demand[0]))          #create the supply vector\n",
    "    \n",
    "    \n",
    "\n",
    "\n",
    "i = 0\n",
    "\n",
    "#demand[0]"
   ]
  },
  {
   "cell_type": "code",
   "execution_count": 15,
   "metadata": {
    "collapsed": false
   },
   "outputs": [
    {
     "data": {
      "text/plain": [
       "(array([ 19.,  15.,  12.,  17.,  14.,  13.,  18.,  22.,  26.,  24.,  20.,\n",
       "         25.,  21.,  15.,  12.,  17.,  28.,  27.,  29.,  22.,  12.,  25.,\n",
       "         23.,  18.,  16.,  14.,  21.,  28.,  17.,  22.,  18.,  22.,  15.,\n",
       "         26.,  12.,  11.,  28.,  10.,  19.,  10.,  13.,  19.,  28.,  14.,\n",
       "         16.,  22.,  28.,  24.,  25.,  12.,  29.,  29.,  11.,  10.,  20.,\n",
       "         10.,  18.,  25.,  12.,  27.,  16.,  14.,  23.,  14.,  29.,  26.,\n",
       "         28.,  15.,  27.,  24.,  23.,  20.,  14.,  19.,  21.,  17.,  13.,\n",
       "         10.,  27.,  29.,  12.,  20.,  28.,  25.,  28.,  21.,  16.,  10.,\n",
       "         23.,  22.,  20.,  28.,  22.,  14.,  11.,  25.,  18.,  20.,  17.,\n",
       "         15.,  10.,  20.,  28.,  22.,  24.,  29.,  24.,  25.,  26.,  12.,\n",
       "         15.,  18.,  23.,  23.,  22.,  29.,  10.,  11.,  23.,  27.,  19.,\n",
       "         21.,  21.,  27.,  16.,  17.,  27.,  19.,  21.,  12.,  23.,  24.,\n",
       "         20.,  13.,  26.,  21.,  26.,  15.,  15.,  14.,  18.,  13.,  19.,\n",
       "         11.,  18.,  16.,  16.,  29.,  12.,  18.,  10.,  14.,  29.,  20.,\n",
       "         16.,  12.,  26.,  11.,  10.,  11.,  27.,  18.,  13.,  27.,  17.,\n",
       "         28.,  19.,  17.,  25.,  24.,  20.,  16.,  14.,  16.,  19.,  16.,\n",
       "         24.,  14.,  25.,  10.,  23.,  24.,  12.,  24.,  18.,  25.,  15.,\n",
       "         14.,  12.,  11.,  23.,  28.,  26.,  21.,  12.,  12.,  16.,  29.,\n",
       "         22.,  22.,  20.,  25.,  28.,  25.,  29.,  29.,  28.,  18.,  14.,\n",
       "         24.,  17.,  17.,  26.,  22.,  19.,  20.,  12.,  28.,  25.,  29.,\n",
       "         19.,  20.,  22.,  23.,  12.,  14.,  10.,  23.,  25.,  25.,  17.,\n",
       "         15.,  17.,  27.,  25.,  25.,  14.,  17.,  22.,  11.,  14.,  28.,\n",
       "         29.,  24.,  14.,  18.,  21.,  17.,  23.,  23.,  20.,  28.,  11.,\n",
       "         14.,  19.,  11.,  11.,  14.,  23.,  16.,  19.,  26.,  23.,  16.,\n",
       "         28.,  19.,  14.,  10.,  15.,  12.,  28.,  15.,  18.,  11.,  29.,\n",
       "         24.,  10.,  10.,  27.,  28.,  18.,  26.,  10.,  24.,  26.,  18.,\n",
       "         11.,  23.,  25.,  15.,  23.,  13.,  27.,  12.,  14.,  18.,  21.,\n",
       "         14.,  16.,  21.,  19.,  25.,  23.,  10.,  21.,  24.,  23.,  22.,\n",
       "         24.,  25.,  18.,  16.,  10.,  13.,  26.,  22.,  23.,  20.,  27.,\n",
       "         29.,  15.,  29.,  28.,  22.,  24.,  17.,  22.,  27.,  21.,  14.,\n",
       "         21.,  19.,  12.,  12.,  25.,  28.,  29.,  16.,  15.,  14.,  25.,\n",
       "         22.,  29.,  22.,  27.,  16.,  14.,  14.,  15.,  14.,  14.,  10.,\n",
       "         27.,  15.,  23.,  14.,  18.,  19.,  15.,  11.,  26.,  10.,  26.,\n",
       "         17.,  28.,  12.,  14.,  11.,  20.,  16.,  22.,  17.,  17.,  22.,\n",
       "         22.,  12.,  28.,  12.,  15.,  18.,  27.,  29.,  26.,  24.,  21.,\n",
       "         24.,  18.,  21.,  14.,  17.,  18.,  24.,  27.,  13.,  17.,  16.,\n",
       "         12.,  18.,  29.,  15.,  19.,  23.,  18.,  15.,  29.,  21.,  24.,\n",
       "         18.,  12.,  17.,  22.,  13.,  16.,  15.,  19.,  27.,  19.,  28.,\n",
       "         27.,  15.,  17.,  16.,  29.,  15.,  25.,  20.,  19.,  23.,  21.,\n",
       "         15.,  21.,  13.,  19.,  20.,  15.,  10.,  22.,  19.,  28.,  18.,\n",
       "         20.,  18.,  28.,  25.,  20.,  18.,  26.,  20.,  10.,  24.,  11.,\n",
       "         21.,  12.,  26.,  25.,  12.,  10.,  15.,  12.,  22.,  24.,  26.,\n",
       "         17.,  10.,  29.,  11.,  10.,  23.,  23.,  11.,  21.,  26.,  16.,\n",
       "         25.,  24.,  21.,  26.,  21.,  19.,  26.,  15.,  13.,  17.,  26.,\n",
       "         22.,  15.,  10.,  14.,  11.,  22.,  18.,  25.,  10.,  13.,  14.,\n",
       "         26.,  19.,  17.,  17.,  13.]), 3)"
      ]
     },
     "execution_count": 15,
     "metadata": {},
     "output_type": "execute_result"
    }
   ],
   "source": [
    "\n",
    "while len(demand[selector]) > 0 and capacity > 0:\n",
    "    \n",
    "    if(capacity <= len(demand[selector])):\n",
    "        share = 1\n",
    "    else:\n",
    "        share = int(capacity / len(demand[selector]))\n",
    "    \n",
    "    while len(demand[selector]) > 0 and demand[selector][0].value <= share and capacity > 0:\n",
    "        supply[demand[selector][0].id] += demand[selector][0].value\n",
    "        capacity -= demand[selector][0].value\n",
    "        heappop(demand[selector])\n",
    "        \n",
    "    while len(demand[selector]) > 0 and capacity > 0:\n",
    "        supply[demand[selector][0].id] += share\n",
    "        demand[selector][0].value -= share\n",
    "        capacity -= share\n",
    "        heappush(demand[1 - selector], heappop(demand[selector]))\n",
    "    \n",
    "    i+=1\n",
    "    if(capacity == 0):\n",
    "        break\n",
    "    selector = 1 - selector\n",
    "    \n",
    "file = open(\"result.txt\", 'w')\n",
    "for entry in supply:\n",
    "    file.write(str(int(entry)) + \"\\n\")\n",
    "file.close()\n",
    "\n",
    "    \n",
    "supply, i"
   ]
  },
  {
   "cell_type": "code",
   "execution_count": null,
   "metadata": {
    "collapsed": true
   },
   "outputs": [],
   "source": []
  },
  {
   "cell_type": "code",
   "execution_count": null,
   "metadata": {
    "collapsed": true
   },
   "outputs": [],
   "source": []
  }
 ],
 "metadata": {
  "kernelspec": {
   "display_name": "Python 3",
   "language": "python",
   "name": "python3"
  },
  "language_info": {
   "codemirror_mode": {
    "name": "ipython",
    "version": 3
   },
   "file_extension": ".py",
   "mimetype": "text/x-python",
   "name": "python",
   "nbconvert_exporter": "python",
   "pygments_lexer": "ipython3",
   "version": "3.5.1"
  }
 },
 "nbformat": 4,
 "nbformat_minor": 0
}
